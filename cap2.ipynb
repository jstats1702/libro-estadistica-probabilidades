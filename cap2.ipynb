{
 "cells": [
  {
   "cell_type": "markdown",
   "id": "4a27cfe6-86cf-4121-a373-2fa7c51cbb83",
   "metadata": {},
   "source": [
    "# Tablas\n",
    "\n",
    "Juan Sosa\n",
    "\n",
    "jcsosam@unal.edu.co\n",
    "\n",
    "https://github.com/jstats1702"
   ]
  },
  {
   "cell_type": "code",
   "execution_count": 52,
   "id": "d74870c9-9938-40df-82a6-35a8626b1ad7",
   "metadata": {},
   "outputs": [],
   "source": [
    "import numpy as np\n",
    "import pandas as pd"
   ]
  },
  {
   "cell_type": "markdown",
   "id": "bd3d2320-ea85-4d6e-b018-ccfcee2fe634",
   "metadata": {
    "jp-MarkdownHeadingCollapsed": true
   },
   "source": [
    "# Introducción\n",
    "\n",
    "La exploración de datos es una etapa fundamental en el análisis de datos, ya que permite resumir la información de las variables de manera clara y precisa. Este proceso se apoya en tablas y gráficos que destacan el comportamiento de las variables de forma comprensible. Una de las aplicaciones más importantes de esta etapa es la depuración de datos, que implica la identificación de anomalías en la estructura de los datos para su posterior corrección o eliminación. \n",
    "\n",
    "Entre las anomalías más frecuentes se encuentran los datos faltantes, pérdidas de formato, errores de digitación y valores improbables. Sin embargo, la exploración de datos trasciende la depuración, ya que también facilita la identificación de tendencias en los datos analizados y el estudio de interacciones entre las variables, proporcionando una base de datos sólida para el modelamiento."
   ]
  },
  {
   "cell_type": "markdown",
   "id": "96fc5a45-f8ba-4508-9d65-ac6c3b1e8171",
   "metadata": {},
   "source": [
    "# Distribución de frecuencias\n",
    "\n",
    "Considere un conjunto de $n$ individuos asociados a una variable cuyos valores han sido agrupados en $k$ clases o categorías, denotadas con $C_1, C_2, \\ldots, C_k$. Para cada una de estas $k$ clases se definen las siguientes magnitudes:\n",
    "\n",
    "**Definición.** La **frecuencia absoluta** de la clase $C_i$, denotar con $n_i$, representa el número de observaciones que pertenecen a la $i$-ésima categoría, para $i = 1, \\ldots, k$. $\\square$\n",
    "\n",
    "**Definición.** La **frecuencia relativa** de la clase $C_i$, denotar con $f_i$, es la proporción de la frecuencia absoluta de la $i$-ésima categoría con respecto al total de observaciones. Se calcula como $f_i = \\frac{n_i}{n}$, para $i = 1, \\ldots, k$. $\\square$\n",
    "\n",
    "Al multiplicar la fórmula de la frecuencia relativa $f_i$ por 100\\%, se obtiene el porcentaje de individuos pertenecientes a la clase correspondiente.\n",
    "\n",
    "**Definición.** La **frecuencia absoluta acumulada** de la clase $C_i$, denotar con $N_i$, representa la cantidad de individuos cuya modalidad es menor o igual a la $i$-ésima categoría. Se calcula como $N_i = \\sum_{j=1}^{i} n_j$, para $i = 1, \\ldots, k$. $\\square$\n",
    "\n",
    "**Definición.** La **frecuencia relativa acumulada** de la clase $C_i$, denotar con $F_i$, representa la proporción de individuos, respecto al total de observaciones, cuya modalidad es menor o igual a la $i$-ésima categoría. Se calcula como $F_i = \\frac{N_i}{n}$, para $i = 1, \\ldots, k$. $\\square$\n",
    "\n",
    "Las frecuencias acumuladas se calculan para variables en escalas de al menos nivel ordinal, ya que permiten establecer un orden entre las categorías. En variables nominales, las frecuencias acumuladas carecen de sentido interpretativo, pues no existe un orden lógico entre las clases.\n",
    "\n",
    "La **distribución de frecuencias** es una tabla que muestra las categorías de una variable junto con sus frecuencias correspondientes. Este tipo de tabla organiza los datos de manera clara y estructurada, facilitando su interpretación y análisis. Su formato general se ilustra en la siguiente tabla."
   ]
  },
  {
   "cell_type": "markdown",
   "id": "6d19e5a5-36c1-4734-8538-7fc8026587e5",
   "metadata": {},
   "source": [
    "| **$C_i$**   | **$n_i$**   | **$f_i$**   | **$N_i$**   | **$F_i$**   |\n",
    "|:-----------:|:-----------:|:-----------:|:-----------:|:-----------:|\n",
    "| $C_1$       | $n_1$       | $f_1$       | $N_1$       | $F_1$       |\n",
    "| $C_2$       | $n_2$       | $f_2$       | $N_2$       | $F_2$       |\n",
    "| $\\vdots$    | $\\vdots$    | $\\vdots$    | $\\vdots$    | $\\vdots$    |\n",
    "| $C_k$       | $n_k$       | $f_k$       | $n$         | 1           |\n",
    "| **Total**   | **$n$**     | **1**       | **N.A.**    | **N.A.**    |"
   ]
  },
  {
   "cell_type": "markdown",
   "id": "1d980608-205a-46ee-b327-e89b8029e01e",
   "metadata": {},
   "source": [
    "**Proposición.** En una distribución de frecuencias con una variable categórica de $k$ clases, se cumplen las siguientes propiedades fundamentales:\n",
    "\n",
    "1. La suma de las frecuencias relativas es igual a 1: $ \\sum_{i=1}^k f_i = 1 $.  \n",
    "2. La frecuencia absoluta acumulada de la última clase es igual al total de observaciones: $ N_k = n $.  \n",
    "3. La frecuencia relativa acumulada de una clase se obtiene como la suma de las frecuencias relativas hasta esa clase: $ F_i = \\sum_{j=1}^{i} f_j $.  \n",
    "4. La frecuencia relativa acumulada de la última clase es igual a 1: $ F_k = 1 $.  \n",
    "\n",
    "La demostración se deja como ejercicio para el lector. $\\square$"
   ]
  },
  {
   "cell_type": "markdown",
   "id": "435c6035-4f5d-49e6-a2bc-9bd4170f1385",
   "metadata": {},
   "source": [
    "# Tablas para variables cualitativas\n",
    "\n",
    "A continuación, se presentan algunos ejemplos para resumir los datos asociados con variables cualitativas. Al elaborar las tablas correspondientes, es esencial considerar la escala de medición de las variables para determinar la pertinencia de incluir las frecuencias acumuladas."
   ]
  },
  {
   "cell_type": "markdown",
   "id": "726f0625-046a-45a0-8dd5-57bc5a4259e5",
   "metadata": {},
   "source": [
    "**Ejemplo.** Considere el siguiente conjunto de datos obtenido a partir de una encuesta de opinión sobre una medida económica (0 = En contra; 1 = A favor; 2 = No Sabe/No Responde). A partir de estos datos, elabore la tabla de frecuencias correspondiente."
   ]
  },
  {
   "cell_type": "code",
   "execution_count": 2,
   "id": "b0201da9-fba2-47a3-8a33-fd97bb59cd20",
   "metadata": {},
   "outputs": [],
   "source": [
    "# datos\n",
    "x = np.array([1, 0, 0, 1, 1, 2, 1, 2, 1, 2, 0, 0, 0, 2, 0, 0, 0, 1, 1, 0, \n",
    "              1, 0, 0, 0, 0, 0, 1, 1, 0, 0, 0, 0, 1, 1, 0, 0, 1, 0, 1, 0, \n",
    "              0, 0, 1, 0, 0, 0, 2, 1])\n"
   ]
  },
  {
   "cell_type": "code",
   "execution_count": 3,
   "id": "2fb62f7b-830c-4a1b-91a3-f6e9f62a372e",
   "metadata": {},
   "outputs": [
    {
     "name": "stdout",
     "output_type": "stream",
     "text": [
      "48\n"
     ]
    }
   ],
   "source": [
    "# tamaño de la muestra\n",
    "n = len(x)\n",
    "print(n)"
   ]
  },
  {
   "cell_type": "code",
   "execution_count": 4,
   "id": "e0c1ba09-52c0-4fe1-b694-6a649c332054",
   "metadata": {},
   "outputs": [
    {
     "name": "stdout",
     "output_type": "stream",
     "text": [
      "[0 1 2]\n",
      "[27 16  5]\n"
     ]
    }
   ],
   "source": [
    "# frecuencias absolutas\n",
    "valores_unicos, n_i = np.unique(x, return_counts=True)\n",
    "print(valores_unicos)\n",
    "print(n_i)"
   ]
  },
  {
   "cell_type": "code",
   "execution_count": 5,
   "id": "6ed86478-6b2e-4b05-b4d5-5187e9efed08",
   "metadata": {},
   "outputs": [
    {
     "name": "stdout",
     "output_type": "stream",
     "text": [
      "[56.25       33.33333333 10.41666667]\n"
     ]
    }
   ],
   "source": [
    "# frecuencias relativas (%)\n",
    "f_i = 100*n_i/n\n",
    "print(f_i)"
   ]
  },
  {
   "cell_type": "code",
   "execution_count": 6,
   "id": "ac525b65-51b7-4c94-a732-371840cf468a",
   "metadata": {},
   "outputs": [
    {
     "name": "stdout",
     "output_type": "stream",
     "text": [
      "3\n"
     ]
    }
   ],
   "source": [
    "# número de clases\n",
    "k = len(n_i)\n",
    "print(k)"
   ]
  },
  {
   "cell_type": "markdown",
   "id": "b63ec3f5-8098-49f6-9241-61b1c3128de6",
   "metadata": {},
   "source": [
    "La variable \"opinión\" es una variable cualitativa nominal que puede tomar los valores \"A favor\", \"En contra\" y \"NS/NR\", por lo que el número de clases es $k = 3$. La siguiente tabla presenta la distribución de frecuencias solicitada. Dado que la escala de medición de la variable \"opinión\" es nominal, las frecuencias acumuladas no tienen sentido en este contexto."
   ]
  },
  {
   "cell_type": "markdown",
   "id": "1f83853f-7ffd-47fd-aa60-8f728ae19c5c",
   "metadata": {},
   "source": [
    "| Opinión     | F. Absoluta | F. Relativa (%) |\n",
    "|:-----------:|:-----------:|:---------------:|\n",
    "| A favor     |     27      |      56.2       |\n",
    "| En contra   |     16      |      33.3       |\n",
    "| NS/NR       |      5      |      10.4       |\n",
    "| **Total**   |   **48**    |    **100.0**    |"
   ]
  },
  {
   "cell_type": "markdown",
   "id": "49fdb538-5672-42c3-a786-89b2235eaf07",
   "metadata": {},
   "source": [
    "$\\square$"
   ]
  },
  {
   "cell_type": "markdown",
   "id": "1e2aa409-97dd-4102-9f39-265676fda061",
   "metadata": {},
   "source": [
    "**Ejemplo.** Considere el siguiente conjunto de datos relacionado con el nivel educativo de algunos empleados de una empresa (0 = Bachillerato, 1 = Pregrado, 2 = Maestría, 3 = Doctorado). A partir de estos datos, elabore la tabla de frecuencias correspondiente."
   ]
  },
  {
   "cell_type": "code",
   "execution_count": 7,
   "id": "11c14817-d01e-4186-b282-4bf0b2211df8",
   "metadata": {},
   "outputs": [],
   "source": [
    "# datos\n",
    "x = np.array([0, 3, 2, 0, 0, 1, 0, 2, 0, 0, 0, 1, 0, 2, 0, 0, 2, 0, 2, 0, 0, 0, 0, 0, \n",
    "              0, 0, 1, 0, 0, 0, 0, 2, 0, 1, 0, 0, 2, 0, 0, 0, 3, 0, 2, 0, 1, 0, 0, 0, \n",
    "              1, 1, 3, 1, 0, 0, 1, 1, 2, 2, 0, 0, 1, 0, 2, 1, 0, 0, 0, 1, 1, 3, 2, 1])"
   ]
  },
  {
   "cell_type": "code",
   "execution_count": 8,
   "id": "e83ec704-84e5-4dbd-a790-eb9d0108753f",
   "metadata": {},
   "outputs": [
    {
     "name": "stdout",
     "output_type": "stream",
     "text": [
      "72\n"
     ]
    }
   ],
   "source": [
    "# tamaño de la muestra\n",
    "n = len(x)\n",
    "print(n)"
   ]
  },
  {
   "cell_type": "code",
   "execution_count": 9,
   "id": "b1c2834f-379d-494b-b886-53efb3fa9195",
   "metadata": {},
   "outputs": [
    {
     "name": "stdout",
     "output_type": "stream",
     "text": [
      "[0 1 2 3]\n",
      "[41 15 12  4]\n"
     ]
    }
   ],
   "source": [
    "# frecuencias absolutas\n",
    "valores_unicos, n_i = np.unique(x, return_counts=True)\n",
    "print(valores_unicos)\n",
    "print(n_i)"
   ]
  },
  {
   "cell_type": "code",
   "execution_count": 10,
   "id": "1c23c23f-4554-4cbb-9c18-ce128cb8287b",
   "metadata": {},
   "outputs": [
    {
     "name": "stdout",
     "output_type": "stream",
     "text": [
      "[41 56 68 72]\n"
     ]
    }
   ],
   "source": [
    "# frecuencias absolutas acumuladas\n",
    "N_i = np.cumsum(n_i)\n",
    "print(N_i)"
   ]
  },
  {
   "cell_type": "code",
   "execution_count": 11,
   "id": "17e7ec8c-51ff-4209-ae94-bf41a916739a",
   "metadata": {},
   "outputs": [
    {
     "name": "stdout",
     "output_type": "stream",
     "text": [
      "[56.94444444 20.83333333 16.66666667  5.55555556]\n"
     ]
    }
   ],
   "source": [
    "# frecuencias relativas (%)\n",
    "f_i = 100*n_i/n\n",
    "print(f_i)"
   ]
  },
  {
   "cell_type": "code",
   "execution_count": 12,
   "id": "f9257e85-526f-4a5f-8931-bb9e3262ef7e",
   "metadata": {},
   "outputs": [
    {
     "name": "stdout",
     "output_type": "stream",
     "text": [
      "[ 56.94444444  77.77777778  94.44444444 100.        ]\n"
     ]
    }
   ],
   "source": [
    "# frecuencias relativas acumuladas (%)\n",
    "F_i = 100*N_i/n\n",
    "print(F_i)"
   ]
  },
  {
   "cell_type": "code",
   "execution_count": 13,
   "id": "8bebad1c-fd44-4fd1-8a68-0224e82470ec",
   "metadata": {},
   "outputs": [
    {
     "name": "stdout",
     "output_type": "stream",
     "text": [
      "4\n"
     ]
    }
   ],
   "source": [
    "# número de clases\n",
    "k = len(n_i)\n",
    "print(k)"
   ]
  },
  {
   "cell_type": "markdown",
   "id": "b938aeef-7a46-4c64-bcd8-45d267b665a0",
   "metadata": {},
   "source": [
    "La variable \"nivel educativo\" es una variable cualitativa ordinal que toma los valores \"Bachillerato\", \"Pregrado\", \"Maestría\" y \"Doctorado\", por lo que el número de categorías es $k=4$. La siguiente tabla muestra la distribución de frecuencias requerida. Dado que la escala de medición de la variable es ordinal, resulta pertinente incluir las frecuencias acumuladas."
   ]
  },
  {
   "cell_type": "markdown",
   "id": "d9db7eb6-229f-44ea-8fe2-8b24531c4147",
   "metadata": {},
   "source": [
    "|     Nivel      | F. Absoluta | F. Relativa (%) | F. Abs. Acumulada | F. Rel. Acumulada (%) |\n",
    "|:--------------:|:-----------:|:---------------:|:-----------------:|:---------------------:|\n",
    "| Bachillerato   |      41     |       56.9      |        41         |         56.9         |\n",
    "| Pregrado       |      15     |       20.8      |        56         |         77.8         |\n",
    "| Maestría       |      12     |       16.7      |        68         |         94.4         |\n",
    "| Doctorado      |       4     |        5.6      |        72         |        100.0         |\n",
    "| **Total**      |     **72**  |      **100.0**  |        NA         |          NA          |"
   ]
  },
  {
   "cell_type": "markdown",
   "id": "4b238057-f78e-443b-b8a8-8c87ddad2803",
   "metadata": {},
   "source": [
    "$\\square$"
   ]
  },
  {
   "cell_type": "markdown",
   "id": "ece78d34-136d-434a-9d29-94417adeb15b",
   "metadata": {},
   "source": [
    "# Tablas para variables cuantitativas\n",
    "\n",
    "Cuando una variable es cuantitativa de razón, no se cuenta directamente con $k$ clases para elaborar la distribución de frecuencias. A continuación, se describe un procedimiento para crear las categorías en este tipo de variables:\n",
    "\n",
    "1. **Seleccionar el número de categorías $k$**. Se pueden utilizar las siguientes alternativas:  \n",
    "   - Elegir arbitrariamente un valor de $k$ tal que $5 \\leq k \\leq 16$.  \n",
    "   - Calcular $k$ mediante la fórmula $k \\approx \\sqrt{n}$.  \n",
    "   - Calcular $k$ utilizando la fórmula de la **regla de Sturges**: $k \\approx 1 + 3.3 \\log_{10}(n)$.\n",
    "   Los resultados de estas alternativas pueden diferir, por lo que el analista debe decidir cuántas clases utilizar según convenga.\n",
    "\n",
    "2. **Determinar el mínimo y el máximo**. El mínimo y el máximo del conjunto de datos se denotan con $x_{\\min}$ y $x_{\\max}$, respectivamente.\n",
    "\n",
    "3. **Calcular el rango $R$**. El rango o recorrido del conjunto de datos se define como: $R = x_{\\max} - x_{\\min}$.\n",
    "\n",
    "4. **Calcular la amplitud $A$**. La amplitud representa el tamaño de las clases y se define como: $A = R/k$. Para mayor simplicidad, se recomienda que todas las clases tengan la misma amplitud.\n",
    "\n",
    "5. **Establecer las categorías**. Las categorías se construyen de la siguiente manera:  \n",
    "   \\[\n",
    "   C_i = \\{x : l_{i-1} \\leq x < l_i\\},\n",
    "   \\]  \n",
    "   donde $l_0 = x_{\\min}$ y $l_i = l_{i-1} + a$. Esto se repite para $i = 1, \\ldots, k$. \n",
    "\n",
    "Este procedimiento asegura una partición adecuada de los valores de la variable en clases uniformes y facilita la elaboración de la tabla de distribución de frecuencias."
   ]
  },
  {
   "cell_type": "markdown",
   "id": "04a7fb91-9aad-4dda-974f-acf921480f99",
   "metadata": {},
   "source": [
    "**Ejemplo.** Considere el siguiente conjunto de datos correspondiente al peso (en kg) de muestra de materiales. A partir de estos datos, elabore la tabla de distribución de frecuencias correspondiente."
   ]
  },
  {
   "cell_type": "code",
   "execution_count": 43,
   "id": "8b9f016a-47d0-45a9-b5fd-6ceec8642fff",
   "metadata": {},
   "outputs": [],
   "source": [
    "# datos \n",
    "x = np.array([103.1, 82.1, 106.2, 100.9, 91.8,  96.1,  126.9, 119.8, 93.1,  86.8,  75.2, \n",
    "              93.0,  82.3,  94.8,  64.2, 105.3, 108.0, 86.3,  81.8,  138.1, 92.5,  66.3, \n",
    "              66.6, 142.2,  96.5,  74.8, 95.4,  100.1, 81.9,  112.0, 116.8, 103.2, \n",
    "              66.1,  60.4,  78.7])"
   ]
  },
  {
   "cell_type": "code",
   "execution_count": 44,
   "id": "6b3a4eb0-c03d-4f80-b2d0-add1fa39b31e",
   "metadata": {},
   "outputs": [
    {
     "name": "stdout",
     "output_type": "stream",
     "text": [
      "35\n"
     ]
    }
   ],
   "source": [
    "# tamaño de la muestra\n",
    "n = len(x)\n",
    "print(n)"
   ]
  },
  {
   "cell_type": "code",
   "execution_count": 45,
   "id": "6292c69a-8a22-4f88-8913-3069c2cbc595",
   "metadata": {},
   "outputs": [
    {
     "name": "stdout",
     "output_type": "stream",
     "text": [
      "6\n"
     ]
    }
   ],
   "source": [
    "# Número de clases (regla de Sturges)\n",
    "k = round(1 + 3.3 * np.log10(n))\n",
    "print(k)"
   ]
  },
  {
   "cell_type": "code",
   "execution_count": 46,
   "id": "0f3d3e4f-b6c8-4346-aabe-61815e6968af",
   "metadata": {},
   "outputs": [
    {
     "name": "stdout",
     "output_type": "stream",
     "text": [
      "60.4\n"
     ]
    }
   ],
   "source": [
    "# mínimo\n",
    "x_min = min(x)\n",
    "print(x_min)"
   ]
  },
  {
   "cell_type": "code",
   "execution_count": 47,
   "id": "a9edfd2d-021f-44c4-bf1c-c0ae3e2fa23e",
   "metadata": {},
   "outputs": [
    {
     "name": "stdout",
     "output_type": "stream",
     "text": [
      "142.2\n"
     ]
    }
   ],
   "source": [
    "# máximo\n",
    "x_max = max(x)\n",
    "print(x_max)"
   ]
  },
  {
   "cell_type": "code",
   "execution_count": 48,
   "id": "551a4d39-dbb9-4cdd-982c-c88b450fbd13",
   "metadata": {},
   "outputs": [
    {
     "name": "stdout",
     "output_type": "stream",
     "text": [
      "81.79999999999998\n"
     ]
    }
   ],
   "source": [
    "# rango\n",
    "R = x_max - x_min\n",
    "print(R)"
   ]
  },
  {
   "cell_type": "code",
   "execution_count": 49,
   "id": "892859fe-d9c6-44eb-96f9-0a55f51cfb0c",
   "metadata": {},
   "outputs": [
    {
     "name": "stdout",
     "output_type": "stream",
     "text": [
      "13.633333333333331\n"
     ]
    }
   ],
   "source": [
    "# amplitud\n",
    "A = R/k\n",
    "print(A)"
   ]
  },
  {
   "cell_type": "code",
   "execution_count": 56,
   "id": "dac7fad5-31d6-473b-8ca3-ce7ac55100a7",
   "metadata": {},
   "outputs": [
    {
     "name": "stdout",
     "output_type": "stream",
     "text": [
      "[ 60.4         74.03333333  87.66666667 101.3        114.93333333\n",
      " 128.56666667 142.2       ]\n"
     ]
    }
   ],
   "source": [
    "# límites\n",
    "limites = x_min + np.arange(0, k + 1) * A\n",
    "print(limites)"
   ]
  },
  {
   "cell_type": "code",
   "execution_count": 58,
   "id": "d824f5e9-f3c8-449a-b519-9ae69bee8bbd",
   "metadata": {},
   "outputs": [
    {
     "name": "stdout",
     "output_type": "stream",
     "text": [
      "(60.399, 74.033]       5\n",
      "(74.033, 87.667]       9\n",
      "(87.667, 101.3]       10\n",
      "(101.3, 114.933]       6\n",
      "(114.933, 128.567]     3\n",
      "(128.567, 142.2]       2\n",
      "Name: count, dtype: int64\n"
     ]
    }
   ],
   "source": [
    "# frecuencias absolutas\n",
    "n_i = pd.cut(x, bins=limites, include_lowest=True).value_counts()\n",
    "print(n_i)"
   ]
  },
  {
   "cell_type": "code",
   "execution_count": 59,
   "id": "0064ea51-e99e-4d56-8959-61b139a02f36",
   "metadata": {},
   "outputs": [
    {
     "name": "stdout",
     "output_type": "stream",
     "text": [
      "(60.399, 74.033]       5\n",
      "(74.033, 87.667]      14\n",
      "(87.667, 101.3]       24\n",
      "(101.3, 114.933]      30\n",
      "(114.933, 128.567]    33\n",
      "(128.567, 142.2]      35\n",
      "Name: count, dtype: int64\n"
     ]
    }
   ],
   "source": [
    "# frecuencias absolutas acumuladas\n",
    "N_i = np.cumsum(n_i)\n",
    "print(N_i)"
   ]
  },
  {
   "cell_type": "code",
   "execution_count": 60,
   "id": "37c47c1f-237f-4ba0-9dc5-37677acb585f",
   "metadata": {},
   "outputs": [
    {
     "name": "stdout",
     "output_type": "stream",
     "text": [
      "(60.399, 74.033]      14.285714\n",
      "(74.033, 87.667]      25.714286\n",
      "(87.667, 101.3]       28.571429\n",
      "(101.3, 114.933]      17.142857\n",
      "(114.933, 128.567]     8.571429\n",
      "(128.567, 142.2]       5.714286\n",
      "Name: count, dtype: float64\n"
     ]
    }
   ],
   "source": [
    "# frecuencias relativas (%)\n",
    "f_i = 100*n_i/n\n",
    "print(f_i)"
   ]
  },
  {
   "cell_type": "code",
   "execution_count": 61,
   "id": "ea7c479e-5441-4a64-ab59-d36615000390",
   "metadata": {},
   "outputs": [
    {
     "name": "stdout",
     "output_type": "stream",
     "text": [
      "(60.399, 74.033]       14.285714\n",
      "(74.033, 87.667]       40.000000\n",
      "(87.667, 101.3]        68.571429\n",
      "(101.3, 114.933]       85.714286\n",
      "(114.933, 128.567]     94.285714\n",
      "(128.567, 142.2]      100.000000\n",
      "Name: count, dtype: float64\n"
     ]
    }
   ],
   "source": [
    "# frecuencias relativas acumuladas (%)\n",
    "F_i = 100*N_i/n\n",
    "print(F_i)"
   ]
  },
  {
   "cell_type": "markdown",
   "id": "9e95eac8-9bfa-4f14-bc1b-bcd240f89a53",
   "metadata": {},
   "source": [
    "La variable \"peso\" es cuantitativa de razón y no se encuentra inicialmente agrupada en categorías, por lo que es necesario definir las clases. La siguiente tabla presenta la distribución de frecuencias correspondiente. Dado que las ganancias están medidas en una escala de razón, resulta pertinente incluir las frecuencias acumuladas. "
   ]
  },
  {
   "cell_type": "markdown",
   "id": "970e7a9d-ac89-472a-9640-1e7ebc353037",
   "metadata": {},
   "source": [
    "| Nivel        | F. Absoluta | F. Relativa (%) | F. Abs. Acumulada | F. Rel. Acumulada (%) |\n",
    "|:------------:|:-----------:|:---------------:|:-----------------:|:---------------------:|\n",
    "| [60.4,74]    |      5      |      14.3       |         5         |         14.3         |\n",
    "| (74,87.7]    |      9      |      25.7       |        14         |         40.0         |\n",
    "| (87.7,101]   |     10      |      28.6       |        24         |         68.6         |\n",
    "| (101,115]    |      6      |      17.1       |        30         |         85.7         |\n",
    "| (115,129]    |      3      |       8.6       |        33         |         94.3         |\n",
    "| (129,142]    |      2      |       5.7       |        35         |        100.0         |\n",
    "| **Total**    |     **35**  |     **100.0**   |        **NA**     |        **NA**        |\n"
   ]
  },
  {
   "cell_type": "markdown",
   "id": "ecfa652b-5263-4364-9e5a-9ae71361a30d",
   "metadata": {},
   "source": [
    "$\\square$"
   ]
  },
  {
   "cell_type": "code",
   "execution_count": null,
   "id": "83d303f5-db69-446d-9174-e25a0e176b94",
   "metadata": {},
   "outputs": [],
   "source": []
  }
 ],
 "metadata": {
  "kernelspec": {
   "display_name": "Python 3 (ipykernel)",
   "language": "python",
   "name": "python3"
  },
  "language_info": {
   "codemirror_mode": {
    "name": "ipython",
    "version": 3
   },
   "file_extension": ".py",
   "mimetype": "text/x-python",
   "name": "python",
   "nbconvert_exporter": "python",
   "pygments_lexer": "ipython3",
   "version": "3.12.7"
  }
 },
 "nbformat": 4,
 "nbformat_minor": 5
}
